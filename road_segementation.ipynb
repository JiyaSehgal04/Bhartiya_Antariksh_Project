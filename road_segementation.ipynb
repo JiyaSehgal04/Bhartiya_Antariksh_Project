{
 "cells": [
  {
   "cell_type": "code",
   "execution_count": 1,
   "id": "8df35bac",
   "metadata": {},
   "outputs": [
    {
     "name": "stdout",
     "output_type": "stream",
     "text": [
      "✅ Automation functions defined successfully!\n"
     ]
    }
   ],
   "source": [
    "# Cell: Automated Tile Processing System\n",
    "\n",
    "import os\n",
    "from pathlib import Path\n",
    "from typing import List, Tuple\n",
    "import geopandas as gpd\n",
    "from shapely.geometry import box\n",
    "from rasterio import features\n",
    "from affine import Affine\n",
    "import numpy as np\n",
    "from PIL import Image\n",
    "\n",
    "def get_tile_bounds(tile_id: str, center_coords: Tuple[float, float], \n",
    "                   tile_size: float = 0.01) -> box:\n",
    "    \"\"\"Generate bounding box for a tile\"\"\"\n",
    "    lon, lat = center_coords\n",
    "    half_size = tile_size / 2\n",
    "    return box(lon - half_size, lat - half_size, \n",
    "              lon + half_size, lat + half_size)\n",
    "\n",
    "def rasterize_and_save(clipped_roads: gpd.GeoDataFrame, \n",
    "                      tile_bounds: box, tile_output_mask_path: str, \n",
    "                      image_size: Tuple[int, int] = (256, 256)):\n",
    "    \"\"\"Rasterize roads and save mask - Your requested function\"\"\"\n",
    "    height, width = image_size\n",
    "    \n",
    "    # Create affine transform\n",
    "    minx, miny, maxx, maxy = tile_bounds.bounds\n",
    "    transform = Affine.translation(minx, miny) * Affine.scale(\n",
    "        (maxx - minx) / width, (maxy - miny) / height)\n",
    "    \n",
    "    # Rasterize roads\n",
    "    if len(clipped_roads) > 0:\n",
    "        mask = features.rasterize(\n",
    "            [(geom, 1) for geom in clipped_roads.geometry],\n",
    "            out_shape=(height, width),\n",
    "            transform=transform,\n",
    "            fill=0,\n",
    "            dtype=np.uint8\n",
    "        )\n",
    "    else:\n",
    "        mask = np.zeros((height, width), dtype=np.uint8)\n",
    "    \n",
    "    # Create directory if needed\n",
    "    os.makedirs(os.path.dirname(tile_output_mask_path), exist_ok=True)\n",
    "    \n",
    "    # Save mask\n",
    "    mask_image = Image.fromarray(mask * 255)\n",
    "    mask_image.save(tile_output_mask_path)\n",
    "    \n",
    "    return np.count_nonzero(mask)\n",
    "\n",
    "def create_synthetic_satellite_image(tile_id: str, output_path: str,\n",
    "                                    image_size: Tuple[int, int] = (256, 256)):\n",
    "    \"\"\"Create synthetic satellite image\"\"\"\n",
    "    height, width = image_size\n",
    "    \n",
    "    # Generate synthetic RGB image (simulating satellite imagery)\n",
    "    image = np.random.randint(50, 200, (height, width, 3), dtype=np.uint8)\n",
    "    \n",
    "    # Add some structure (roads, buildings, etc.)\n",
    "    image[100:110, :, :] = np.random.randint(80, 120, (10, width, 3))  # Horizontal features\n",
    "    image[:, 120:130, :] = np.random.randint(80, 120, (height, 10, 3))  # Vertical features\n",
    "    \n",
    "    # Create directory if needed\n",
    "    os.makedirs(os.path.dirname(output_path), exist_ok=True)\n",
    "    \n",
    "    # Save image\n",
    "    Image.fromarray(image).save(output_path)\n",
    "    \n",
    "    return output_path\n",
    "\n",
    "print(\"✅ Automation functions defined successfully!\")"
   ]
  },
  {
   "cell_type": "code",
   "execution_count": 2,
   "id": "4ff14d96",
   "metadata": {},
   "outputs": [
    {
     "name": "stdout",
     "output_type": "stream",
     "text": [
      "🚀 Processing 5 tiles...\n",
      "\n",
      "📍 Processing pune_001 at coordinates (73.8567, 18.5204)\n",
      "   Tile bounds: (73.85170000000001, 18.5154, 73.8617, 18.525399999999998)\n",
      "   No roads data available, using empty dataset\n",
      "   ✅ Generated: pune_001_image.png & pune_001_mask.png\n",
      "   📊 Road pixels: 0\n",
      "\n",
      "📍 Processing pune_002 at coordinates (73.8667, 18.5304)\n",
      "   Tile bounds: (73.8617, 18.5254, 73.87169999999999, 18.5354)\n",
      "   No roads data available, using empty dataset\n",
      "   ✅ Generated: pune_002_image.png & pune_002_mask.png\n",
      "   📊 Road pixels: 0\n",
      "\n",
      "📍 Processing pune_003 at coordinates (73.8467, 18.5104)\n",
      "   Tile bounds: (73.8417, 18.5054, 73.8517, 18.5154)\n",
      "   No roads data available, using empty dataset\n",
      "   ✅ Generated: pune_003_image.png & pune_003_mask.png\n",
      "   📊 Road pixels: 0\n",
      "\n",
      "📍 Processing pune_004 at coordinates (73.8767, 18.5404)\n",
      "   Tile bounds: (73.8717, 18.535400000000003, 73.8817, 18.5454)\n",
      "   No roads data available, using empty dataset\n",
      "   ✅ Generated: pune_004_image.png & pune_004_mask.png\n",
      "   📊 Road pixels: 0\n",
      "\n",
      "📍 Processing pune_005 at coordinates (73.8367, 18.5004)\n",
      "   Tile bounds: (73.8317, 18.4954, 73.84169999999999, 18.505399999999998)\n",
      "   No roads data available, using empty dataset\n",
      "   ✅ Generated: pune_005_image.png & pune_005_mask.png\n",
      "   📊 Road pixels: 0\n",
      "\n",
      "🎉 Automation complete! Processed 5 tiles\n"
     ]
    }
   ],
   "source": [
    "# Cell: Main Automation Loop\n",
    "\n",
    "# Define satellite tiles to process\n",
    "satellite_tiles = [\n",
    "    (\"pune_001\", (73.8567, 18.5204)),  # Pune center\n",
    "    (\"pune_002\", (73.8667, 18.5304)),  # Northeast\n",
    "    (\"pune_003\", (73.8467, 18.5104)),  # Southwest\n",
    "    (\"pune_004\", (73.8767, 18.5404)),  # Far northeast\n",
    "    (\"pune_005\", (73.8367, 18.5004)),  # Far southwest\n",
    "]\n",
    "\n",
    "# Your requested automation loop\n",
    "results = []\n",
    "\n",
    "print(f\"🚀 Processing {len(satellite_tiles)} tiles...\")\n",
    "\n",
    "for tile in satellite_tiles:\n",
    "    tile_id, coords = tile\n",
    "    print(f\"\\n📍 Processing {tile_id} at coordinates {coords}\")\n",
    "    \n",
    "    # Get tile bounds (from georeferenced image)\n",
    "    bounds = get_tile_bounds(tile_id, coords)\n",
    "    print(f\"   Tile bounds: {bounds.bounds}\")\n",
    "    \n",
    "    # Clip roads to tile bounds\n",
    "    if 'roads' in locals():\n",
    "        clipped = roads[roads.intersects(bounds)]\n",
    "        print(f\"   Found {len(clipped)} road segments\")\n",
    "    else:\n",
    "        print(\"   No roads data available, using empty dataset\")\n",
    "        clipped = gpd.GeoDataFrame()\n",
    "    \n",
    "    # Define output paths\n",
    "    tile_output_mask_path = f\"data/masks/{tile_id}_mask.png\"\n",
    "    tile_output_image_path = f\"data/images/{tile_id}_image.png\"\n",
    "    \n",
    "    # Create synthetic satellite image\n",
    "    create_synthetic_satellite_image(tile_id, tile_output_image_path)\n",
    "    \n",
    "    # Rasterize and save mask (your requested function)\n",
    "    road_pixels = rasterize_and_save(clipped, bounds, tile_output_mask_path)\n",
    "    \n",
    "    # Store results\n",
    "    results.append({\n",
    "        'tile_id': tile_id,\n",
    "        'coords': coords,\n",
    "        'image_path': tile_output_image_path,\n",
    "        'mask_path': tile_output_mask_path,\n",
    "        'road_segments': len(clipped) if 'roads' in locals() else 0,\n",
    "        'road_pixels': road_pixels\n",
    "    })\n",
    "    \n",
    "    print(f\"   ✅ Generated: {tile_id}_image.png & {tile_id}_mask.png\")\n",
    "    print(f\"   📊 Road pixels: {road_pixels}\")\n",
    "\n",
    "print(f\"\\n🎉 Automation complete! Processed {len(results)} tiles\")"
   ]
  },
  {
   "cell_type": "code",
   "execution_count": null,
   "id": "b6a28761",
   "metadata": {},
   "outputs": [
    {
     "name": "stdout",
     "output_type": "stream",
     "text": [
      "Starting model training...\n",
      "Dataset size: 20 samples\n",
      "Batch size: 4\n",
      "Number of batches: 5\n",
      "Device: cpu\n"
     ]
    },
    {
     "name": "stderr",
     "output_type": "stream",
     "text": [
      "  0%|          | 0/5 [00:00<?, ?it/s]"
     ]
    },
    {
     "name": "stderr",
     "output_type": "stream",
     "text": [
      "100%|██████████| 5/5 [00:23<00:00,  4.76s/it]\n",
      "100%|██████████| 5/5 [00:23<00:00,  4.76s/it]\n"
     ]
    },
    {
     "name": "stdout",
     "output_type": "stream",
     "text": [
      "Epoch 1/5, Loss: 1.1811\n"
     ]
    },
    {
     "name": "stderr",
     "output_type": "stream",
     "text": [
      "100%|██████████| 5/5 [00:24<00:00,  4.93s/it]\n",
      "100%|██████████| 5/5 [00:24<00:00,  4.93s/it]\n"
     ]
    },
    {
     "name": "stdout",
     "output_type": "stream",
     "text": [
      "Epoch 2/5, Loss: 1.1713\n"
     ]
    },
    {
     "name": "stderr",
     "output_type": "stream",
     "text": [
      "100%|██████████| 5/5 [00:28<00:00,  5.68s/it]\n",
      "100%|██████████| 5/5 [00:28<00:00,  5.68s/it]\n"
     ]
    },
    {
     "name": "stdout",
     "output_type": "stream",
     "text": [
      "Epoch 3/5, Loss: 1.1701\n"
     ]
    },
    {
     "name": "stderr",
     "output_type": "stream",
     "text": [
      "100%|██████████| 5/5 [00:31<00:00,  6.23s/it]\n",
      "100%|██████████| 5/5 [00:31<00:00,  6.23s/it]\n"
     ]
    },
    {
     "name": "stdout",
     "output_type": "stream",
     "text": [
      "Epoch 4/5, Loss: 1.1691\n"
     ]
    },
    {
     "name": "stderr",
     "output_type": "stream",
     "text": [
      "100%|██████████| 5/5 [00:26<00:00,  5.30s/it]"
     ]
    },
    {
     "name": "stdout",
     "output_type": "stream",
     "text": [
      "Epoch 5/5, Loss: 1.1688\n",
      "🎉 Training completed successfully!\n"
     ]
    },
    {
     "name": "stderr",
     "output_type": "stream",
     "text": [
      "\n"
     ]
    }
   ],
   "source": [
    "# Train the model\n",
    "print(\"Starting model training...\")\n",
    "print(f\"Dataset size: {len(dataset)} samples\")\n",
    "print(f\"Batch size: {dataloader.batch_size}\")\n",
    "print(f\"Number of batches: {len(dataloader)}\")\n",
    "print(f\"Device: {device}\")\n",
    "\n",
    "try:\n",
    "    train_model(model, dataloader, optimizer, criterion, device, num_epochs=5)\n",
    "    print(\"🎉 Training completed successfully!\")\n",
    "except Exception as e:\n",
    "    print(f\"❌ Training failed with error: {e}\")\n",
    "    print(\"This might be due to data format issues or other training-related problems.\")"
   ]
  },
  {
   "cell_type": "code",
   "execution_count": null,
   "id": "032d0890",
   "metadata": {},
   "outputs": [],
   "source": []
  },
  {
   "cell_type": "code",
   "execution_count": null,
   "id": "11f92b93",
   "metadata": {},
   "outputs": [],
   "source": []
  }
 ],
 "metadata": {
  "kernelspec": {
   "display_name": "base",
   "language": "python",
   "name": "python3"
  },
  "language_info": {
   "codemirror_mode": {
    "name": "ipython",
    "version": 3
   },
   "file_extension": ".py",
   "mimetype": "text/x-python",
   "name": "python",
   "nbconvert_exporter": "python",
   "pygments_lexer": "ipython3",
   "version": "3.12.9"
  }
 },
 "nbformat": 4,
 "nbformat_minor": 5
}
